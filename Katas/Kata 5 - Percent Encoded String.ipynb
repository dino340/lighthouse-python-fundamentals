{
 "cells": [
  {
   "cell_type": "code",
   "execution_count": 5,
   "id": "a51f3a0b-7555-4544-bfef-115b0d97b725",
   "metadata": {},
   "outputs": [
    {
     "name": "stdout",
     "output_type": "stream",
     "text": [
      "Lighthouse%20Labs\n",
      "Lighthouse%20Labs\n",
      "blue%20is%20greener%20than%20purple%20for%20sure\n"
     ]
    }
   ],
   "source": [
    "def urlEncode(text):\n",
    "    stripText = text.strip()\n",
    "    encodedString = ''\n",
    "    for x in stripText:\n",
    "        if x != ' ':\n",
    "            encodedString += x\n",
    "        elif x == ' ':\n",
    "            encodedString += '%20'\n",
    "    return encodedString\n",
    "\n",
    "\n",
    "print(urlEncode(\"Lighthouse Labs\"))\n",
    "print(urlEncode(\" Lighthouse Labs  \"))\n",
    "print(urlEncode(\"blue is greener than purple for sure\"))"
   ]
  },
  {
   "cell_type": "code",
   "execution_count": 4,
   "id": "4565f9fe-e944-4a81-956a-f1b38ccb8345",
   "metadata": {},
   "outputs": [
    {
     "name": "stdout",
     "output_type": "stream",
     "text": [
      "Lighthouse%20Labs\n"
     ]
    }
   ],
   "source": [
    "text = \" Lighthouse Labs  \"\n",
    "stripText = text.strip()\n",
    "encodedString = ''\n",
    "for x in stripText:\n",
    "    if x != ' ':\n",
    "        encodedString += x\n",
    "    elif x == ' ':\n",
    "        encodedString += '%20'\n",
    "print(encodedString)\n"
   ]
  },
  {
   "cell_type": "code",
   "execution_count": null,
   "id": "4376d273-9a89-4f63-a720-e559af3c4a6e",
   "metadata": {},
   "outputs": [],
   "source": []
  }
 ],
 "metadata": {
  "kernelspec": {
   "display_name": "Python 3",
   "language": "python",
   "name": "python3"
  },
  "language_info": {
   "codemirror_mode": {
    "name": "ipython",
    "version": 3
   },
   "file_extension": ".py",
   "mimetype": "text/x-python",
   "name": "python",
   "nbconvert_exporter": "python",
   "pygments_lexer": "ipython3",
   "version": "3.8.8"
  }
 },
 "nbformat": 4,
 "nbformat_minor": 5
}
