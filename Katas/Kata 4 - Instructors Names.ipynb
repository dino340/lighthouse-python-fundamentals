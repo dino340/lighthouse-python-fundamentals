{
 "cells": [
  {
   "cell_type": "code",
   "execution_count": 10,
   "id": "fdcde655-6a69-4121-9116-0fa1923713bd",
   "metadata": {},
   "outputs": [
    {
     "name": "stdout",
     "output_type": "stream",
     "text": [
      "{'name': 'Jeremiah', 'course': 'Data'}\n",
      "{'name': 'Domascus', 'course': 'Web'}\n"
     ]
    }
   ],
   "source": [
    "def instructorWithLongestName(instructors):\n",
    "    longestNameChars = 0\n",
    "    for x in instructors:\n",
    "        if len(x['name']) > longestNameChars:\n",
    "            longestNameChars = len(x['name'])        \n",
    "            longestName = x\n",
    "    return longestName\n",
    "\n",
    "print(instructorWithLongestName([\n",
    "  {\"name\": \"Samuel\", \"course\": \"iOS\"},\n",
    "  {\"name\": \"Jeremiah\", \"course\": \"Data\"},\n",
    "  {\"name\": \"Ophilia\", \"course\": \"Web\"},\n",
    "  {\"name\": \"Donald\", \"course\": \"Web\"}\n",
    "]))\n",
    "print(instructorWithLongestName([\n",
    "  {\"name\": \"Matthew\", \"course\": \"Data\"},\n",
    "  {\"name\": \"David\", \"course\": \"iOS\"},\n",
    "  {\"name\": \"Domascus\", \"course\": \"Web\"}\n",
    "]))"
   ]
  },
  {
   "cell_type": "code",
   "execution_count": 1,
   "id": "1699afdc-acfd-4e17-962f-d7b2d6a69cd6",
   "metadata": {},
   "outputs": [
    {
     "name": "stdout",
     "output_type": "stream",
     "text": [
      "[{'name': 'Samuel', 'course': 'iOS'}, {'name': 'Jeremiah', 'course': 'Data'}, {'name': 'Ophilia', 'course': 'Web'}, {'name': 'Donald', 'course': 'Web'}]\n"
     ]
    }
   ],
   "source": [
    "data =[\n",
    "  {\"name\": \"Samuel\", \"course\": \"iOS\"},\n",
    "  {\"name\": \"Jeremiah\", \"course\": \"Data\"},\n",
    "  {\"name\": \"Ophilia\", \"course\": \"Web\"},\n",
    "  {\"name\": \"Donald\", \"course\": \"Web\"}\n",
    "]\n",
    "\n",
    "print(data)"
   ]
  },
  {
   "cell_type": "code",
   "execution_count": 6,
   "id": "4922c217-b09b-49ed-8f6f-1f41e21696a1",
   "metadata": {},
   "outputs": [
    {
     "name": "stdout",
     "output_type": "stream",
     "text": [
      "{'name': 'Jeremiah', 'course': 'Data'}\n"
     ]
    }
   ],
   "source": [
    "longestNameChars = 0\n",
    "for x in data:\n",
    "    if len(x['name']) > longestNameChars:\n",
    "        longestNameChars = len(x['name'])        \n",
    "        longestName = x\n",
    "print(longestName)"
   ]
  },
  {
   "cell_type": "code",
   "execution_count": null,
   "id": "47e8be3e-93b4-46d4-81e3-57b3058bc6d7",
   "metadata": {},
   "outputs": [],
   "source": []
  }
 ],
 "metadata": {
  "kernelspec": {
   "display_name": "Python 3",
   "language": "python",
   "name": "python3"
  },
  "language_info": {
   "codemirror_mode": {
    "name": "ipython",
    "version": 3
   },
   "file_extension": ".py",
   "mimetype": "text/x-python",
   "name": "python",
   "nbconvert_exporter": "python",
   "pygments_lexer": "ipython3",
   "version": "3.8.8"
  }
 },
 "nbformat": 4,
 "nbformat_minor": 5
}
