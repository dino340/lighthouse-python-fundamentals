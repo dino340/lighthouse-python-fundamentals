{
 "cells": [
  {
   "cell_type": "code",
   "execution_count": null,
   "id": "357237ae-b71b-4d58-92a1-c3244243447c",
   "metadata": {},
   "outputs": [],
   "source": [
    "def repeatNumbers(data):\n",
    "    # Put your solution here\n",
    "\n",
    "\n",
    "print(repeatNumbers([[1, 10]]))\n",
    "print(repeatNumbers([[1, 2], [2, 3]]))\n",
    "print(repeatNumbers([[10, 4], [34, 6], [92, 2]]))"
   ]
  },
  {
   "cell_type": "code",
   "execution_count": 1,
   "id": "a98379d0-e190-43dc-b814-c982dcc32298",
   "metadata": {},
   "outputs": [],
   "source": [
    "data = [[10, 4], [34, 6], [92, 2]]\n",
    "tempOutput = ''\n",
    "for items in data:\n",
    "    number = str(items[0])\n",
    "    repeat = items[-1]\n",
    "    tempOutput += number*repeat + ' '\n",
    "trimOutput = tempOutput.strip()\n",
    "for x in trimOutput:\n",
    "    if x != ' ':\n",
    "        output += x\n",
    "    elif x == ' ':\n",
    "        encodedString += ', '\n",
    "return encodedString\n"
   ]
  },
  {
   "cell_type": "code",
   "execution_count": 2,
   "id": "812ba4a3-e7c4-45f3-a50a-da612e1a2d07",
   "metadata": {},
   "outputs": [
    {
     "name": "stdout",
     "output_type": "stream",
     "text": [
      "10101010 343434343434 9292 \n"
     ]
    }
   ],
   "source": [
    "print(output)"
   ]
  },
  {
   "cell_type": "code",
   "execution_count": null,
   "id": "cad3af7d-52e8-4b54-b64f-fb69c9bed37c",
   "metadata": {},
   "outputs": [],
   "source": []
  }
 ],
 "metadata": {
  "kernelspec": {
   "display_name": "Python 3",
   "language": "python",
   "name": "python3"
  },
  "language_info": {
   "codemirror_mode": {
    "name": "ipython",
    "version": 3
   },
   "file_extension": ".py",
   "mimetype": "text/x-python",
   "name": "python",
   "nbconvert_exporter": "python",
   "pygments_lexer": "ipython3",
   "version": "3.8.8"
  }
 },
 "nbformat": 4,
 "nbformat_minor": 5
}
