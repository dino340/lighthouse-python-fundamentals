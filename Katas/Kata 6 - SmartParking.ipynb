{
 "cells": [
  {
   "cell_type": "code",
   "execution_count": 9,
   "id": "deb8a4cf-f1a6-41ad-8194-7ed969fbbae7",
   "metadata": {},
   "outputs": [
    {
     "name": "stdout",
     "output_type": "stream",
     "text": [
      "[4, 0]\n",
      "false\n",
      "[0, 5]\n"
     ]
    }
   ],
   "source": [
    "def whereCanIPark(spots, vehicle):\n",
    "    vehicleType = vehicle\n",
    "    if vehicleType == 'regular':\n",
    "        spotsAvalible = ['R']\n",
    "    elif vehicleType == 'small':\n",
    "        spotsAvalible = ['R', 'S']\n",
    "    elif vehicleType == 'motorcycle':\n",
    "        spotsAvalible = ['R', 'S', 'M']\n",
    "    else:\n",
    "        print('Please enter a proper vehicle type')\n",
    "    openRow = 0\n",
    "    openColumn = 0\n",
    "    parkingSpot = [False]\n",
    "    for row in spots:\n",
    "        openColumn = 0\n",
    "        for column in row:\n",
    "            if column in spotsAvalible:\n",
    "                chosenColumn = openColumn\n",
    "                chosenRow = openRow\n",
    "                parkingSpot = [chosenColumn, chosenRow]\n",
    "                break\n",
    "            openColumn += 1\n",
    "        openRow += 1\n",
    "    if parkingSpot == [False]:\n",
    "        return('false')\n",
    "    return(parkingSpot)\n",
    "\n",
    "\n",
    "print(whereCanIPark(\n",
    "  [\n",
    "    # COLUMNS ARE X\n",
    "    # 0    1    2    3    4    5\n",
    "    ['s', 's', 's', 'S', 'R', 'M'], # 0 ROWS ARE Y\n",
    "    ['s', 'M', 's', 'S', 'r', 'M'], # 1\n",
    "    ['s', 'M', 's', 'S', 'r', 'm'], # 2\n",
    "    ['S', 'r', 's', 'm', 'r', 'M'], # 3\n",
    "    ['S', 'r', 's', 'm', 'r', 'M'], # 4\n",
    "    ['S', 'r', 'S', 'M', 'M', 'S']  # 5\n",
    "  ],\n",
    "  'regular'\n",
    "))\n",
    "\n",
    "print(whereCanIPark(\n",
    "  [\n",
    "    ['M', 'M', 'M', 'M'],\n",
    "    ['M', 's', 'M', 'M'],\n",
    "    ['M', 'M', 'M', 'M'],\n",
    "    ['M', 'M', 'r', 'M']\n",
    "  ],\n",
    "  'small'\n",
    "))\n",
    "\n",
    "print(whereCanIPark(\n",
    "  [\n",
    "    ['s', 's', 's', 's', 's', 's'],\n",
    "    ['s', 'm', 's', 'S', 'r', 's'],\n",
    "    ['s', 'm', 's', 'S', 'r', 's'],\n",
    "    ['S', 'r', 's', 'm', 'r', 's'],\n",
    "    ['S', 'r', 's', 'm', 'R', 's'],\n",
    "    ['S', 'r', 'S', 'M', 'm', 'S']\n",
    "  ],\n",
    "  'motorcycle'\n",
    "))"
   ]
  },
  {
   "cell_type": "code",
   "execution_count": 7,
   "id": "698eb5c3-d3f5-439c-b402-2418d19b0d23",
   "metadata": {},
   "outputs": [
    {
     "name": "stdout",
     "output_type": "stream",
     "text": [
      "[0, 5]\n"
     ]
    }
   ],
   "source": [
    "parkingLot = [\n",
    "    # COLUMNS ARE X\n",
    "    # 0    1    2    3    4    5\n",
    "    ['s', 's', 's', 'S', 'R', 'M'], # 0 ROWS ARE Y\n",
    "    ['s', 'M', 's', 'S', 'r', 'M'], # 1\n",
    "    ['s', 'M', 's', 'S', 'r', 'm'], # 2\n",
    "    ['S', 'r', 's', 'm', 'r', 'M'], # 3\n",
    "    ['S', 'r', 's', 'm', 'r', 'M'], # 4\n",
    "    ['S', 'r', 'S', 'M', 'M', 'S']  # 5\n",
    "  ]\n",
    "\n",
    "vehicleType = 'small'\n",
    "if vehicleType == 'regular':\n",
    "    spotsAvalible = ['R']\n",
    "elif vehicleType == 'small':\n",
    "    spotsAvalible = ['R', 'S']\n",
    "elif vehicleType == 'motorcycle':\n",
    "    spotsAvalible = ['R', 'S', 'M']\n",
    "else:\n",
    "    print('Please enter a proper vehicle type')\n",
    "openRow = 0\n",
    "openColumn = 0\n",
    "parkingSpot = [False]\n",
    "for row in parkingLot:\n",
    "    openColumn = 0\n",
    "    for column in row:\n",
    "        if column in spotsAvalible:\n",
    "            chosenColumn = openColumn\n",
    "            chosenRow = openRow\n",
    "            parkingSpot = [chosenColumn, chosenRow]\n",
    "            break\n",
    "        openColumn += 1\n",
    "    openRow += 1\n",
    "if parkingSpot == [False]:\n",
    "    print(False)\n",
    "print(parkingSpot)\n",
    "    "
   ]
  },
  {
   "cell_type": "code",
   "execution_count": null,
   "id": "953b228d-d092-41fb-b9de-ebee2b7bbebc",
   "metadata": {},
   "outputs": [],
   "source": []
  }
 ],
 "metadata": {
  "kernelspec": {
   "display_name": "Python 3",
   "language": "python",
   "name": "python3"
  },
  "language_info": {
   "codemirror_mode": {
    "name": "ipython",
    "version": 3
   },
   "file_extension": ".py",
   "mimetype": "text/x-python",
   "name": "python",
   "nbconvert_exporter": "python",
   "pygments_lexer": "ipython3",
   "version": "3.8.8"
  }
 },
 "nbformat": 4,
 "nbformat_minor": 5
}
