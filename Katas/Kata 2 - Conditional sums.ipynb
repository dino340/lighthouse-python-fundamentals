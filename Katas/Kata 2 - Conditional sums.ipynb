{
 "cells": [
  {
   "cell_type": "code",
   "execution_count": 3,
   "id": "b9885a7f-b24d-40a5-a3cb-89d347591b70",
   "metadata": {},
   "outputs": [
    {
     "name": "stdout",
     "output_type": "stream",
     "text": [
      "6\n",
      "9\n",
      "144\n",
      "0\n"
     ]
    }
   ],
   "source": [
    "def conditionalSum(values, condition):\n",
    "    toBeSummed = [0]\n",
    "    for x in values:\n",
    "        if condition == 'even':\n",
    "            if x % 2 == 0:\n",
    "                toBeSummed += [x]\n",
    "        elif condition == 'odd':\n",
    "            if x % 2 != 0:\n",
    "                toBeSummed += [x]\n",
    "        else:\n",
    "            return 'Please provide a valid condition...'\n",
    "    return sum(toBeSummed)\n",
    "                \n",
    "                \n",
    "        \n",
    "\n",
    "\n",
    "print(conditionalSum([1, 2, 3, 4, 5], \"even\"))\n",
    "print(conditionalSum([1, 2, 3, 4, 5], \"odd\"))\n",
    "print(conditionalSum([13, 88, 12, 44, 99], \"even\"))\n",
    "print(conditionalSum([], \"odd\"))"
   ]
  },
  {
   "cell_type": "code",
   "execution_count": null,
   "id": "e545800c-11d2-45e5-b0d9-37a572f0bc26",
   "metadata": {},
   "outputs": [],
   "source": []
  }
 ],
 "metadata": {
  "kernelspec": {
   "display_name": "Python 3",
   "language": "python",
   "name": "python3"
  },
  "language_info": {
   "codemirror_mode": {
    "name": "ipython",
    "version": 3
   },
   "file_extension": ".py",
   "mimetype": "text/x-python",
   "name": "python",
   "nbconvert_exporter": "python",
   "pygments_lexer": "ipython3",
   "version": "3.8.8"
  }
 },
 "nbformat": 4,
 "nbformat_minor": 5
}
