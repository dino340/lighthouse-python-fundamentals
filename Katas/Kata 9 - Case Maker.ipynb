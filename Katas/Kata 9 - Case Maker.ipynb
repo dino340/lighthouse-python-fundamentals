{
 "cells": [
  {
   "cell_type": "code",
   "execution_count": null,
   "id": "533d7526-b0ef-40a0-a9a5-f4a6fd475694",
   "metadata": {},
   "outputs": [],
   "source": [
    "def camelCase(input):\n",
    "    # Your code here\n",
    "\n",
    "\n",
    "print(camelCase(\"this is a string\"))\n",
    "print(camelCase(\"loopy lighthouse\"))\n",
    "print(camelCase(\"supercalifragalisticexpialidocious\"))"
   ]
  },
  {
   "cell_type": "code",
   "execution_count": 27,
   "id": "ea946b19-1c80-44dd-b863-6855636c16a0",
   "metadata": {},
   "outputs": [
    {
     "ename": "SyntaxError",
     "evalue": "invalid syntax (<ipython-input-27-e7993acb6a53>, line 13)",
     "output_type": "error",
     "traceback": [
      "\u001b[1;36m  File \u001b[1;32m\"<ipython-input-27-e7993acb6a53>\"\u001b[1;36m, line \u001b[1;32m13\u001b[0m\n\u001b[1;33m    output = .join(output)\u001b[0m\n\u001b[1;37m             ^\u001b[0m\n\u001b[1;31mSyntaxError\u001b[0m\u001b[1;31m:\u001b[0m invalid syntax\n"
     ]
    }
   ],
   "source": [
    "string = 'this is a string'\n",
    "output = [string[0]]\n",
    "flag = False\n",
    "for x in string[1:]:\n",
    "    if x == ' ':\n",
    "        flag = True\n",
    "    else:\n",
    "        if flag == True:\n",
    "            output.append(x.upper())\n",
    "            flag = False\n",
    "        else:\n",
    "            output.append(x)\n",
    "output = .join(output)"
   ]
  },
  {
   "cell_type": "code",
   "execution_count": 26,
   "id": "b5c4b995-afd5-4ab7-b785-91c240c64105",
   "metadata": {},
   "outputs": [
    {
     "name": "stdout",
     "output_type": "stream",
     "text": [
      "['t', 'h', 'i', 's', 'I', 's', 'A', 'S', 't', 'r', 'i', 'n', 'g']\n"
     ]
    }
   ],
   "source": [
    "print(output)"
   ]
  },
  {
   "cell_type": "code",
   "execution_count": null,
   "id": "3ecf7dae-ff27-4022-9347-303e3e3786e0",
   "metadata": {},
   "outputs": [],
   "source": [
    "char = string[index+1]\n",
    "        camelCase += char.upper()"
   ]
  }
 ],
 "metadata": {
  "kernelspec": {
   "display_name": "Python 3",
   "language": "python",
   "name": "python3"
  },
  "language_info": {
   "codemirror_mode": {
    "name": "ipython",
    "version": 3
   },
   "file_extension": ".py",
   "mimetype": "text/x-python",
   "name": "python",
   "nbconvert_exporter": "python",
   "pygments_lexer": "ipython3",
   "version": "3.8.8"
  }
 },
 "nbformat": 4,
 "nbformat_minor": 5
}
