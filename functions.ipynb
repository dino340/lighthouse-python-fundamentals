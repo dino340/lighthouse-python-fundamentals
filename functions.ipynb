{
 "cells": [
  {
   "cell_type": "code",
   "execution_count": 15,
   "id": "9ef7e9e5-89c0-488b-90fd-64ada5564a64",
   "metadata": {},
   "outputs": [],
   "source": [
    "def hello_func(greeting, name = 'You'):\n",
    "    return '{}, {}'.format(greeting, name)"
   ]
  },
  {
   "cell_type": "code",
   "execution_count": 17,
   "id": "d271dfda-5408-46d0-bedf-315ed8866bc5",
   "metadata": {},
   "outputs": [
    {
     "name": "stdout",
     "output_type": "stream",
     "text": [
      "Hi, Garrett\n"
     ]
    }
   ],
   "source": [
    "print(hello_func(\"Hi\", 'Garrett'))"
   ]
  },
  {
   "cell_type": "code",
   "execution_count": 18,
   "id": "ee8e7cb3-2da2-4c75-a5cf-f35a6960a8aa",
   "metadata": {},
   "outputs": [],
   "source": [
    "def student_info(*args, **kwargs):\n",
    "    print(args)\n",
    "    print(kwargs)"
   ]
  },
  {
   "cell_type": "code",
   "execution_count": 20,
   "id": "d744354a-761f-4e86-a73b-089f742a90d5",
   "metadata": {},
   "outputs": [],
   "source": [
    "courses = ['Math', 'Art']\n",
    "info = {'name': 'John', 'age': 22}"
   ]
  },
  {
   "cell_type": "code",
   "execution_count": 22,
   "id": "ca460195-555c-477c-97df-38242a8a2138",
   "metadata": {},
   "outputs": [
    {
     "name": "stdout",
     "output_type": "stream",
     "text": [
      "('Math', 'Art')\n",
      "{'name': 'John', 'age': 22}\n"
     ]
    }
   ],
   "source": [
    "student_info(*courses, **info)"
   ]
  },
  {
   "cell_type": "code",
   "execution_count": 23,
   "id": "cf7746fb-d9ec-4a23-9663-ebc34b2d13d5",
   "metadata": {},
   "outputs": [],
   "source": [
    "month_days = [0, 31, 28, 31, 30, 31, 30, 31, 31, 30, 31, 30, 31]"
   ]
  },
  {
   "cell_type": "code",
   "execution_count": 31,
   "id": "6f645edc-99b9-4fa0-8031-622f2c7e1ece",
   "metadata": {},
   "outputs": [],
   "source": [
    "def is_leap(year):\n",
    "    \"\"\"Return True for leap years, False for non-leap years.\"\"\"\n",
    "    \n",
    "    return year % 4 == 0 and (year % 100 != 0 or year % 400 == 0)"
   ]
  },
  {
   "cell_type": "code",
   "execution_count": 30,
   "id": "dc1ec836-d1df-460a-b290-4753232998e2",
   "metadata": {},
   "outputs": [],
   "source": [
    "def days_in_month(year, month):\n",
    "    \"\"\"Return number of days in that month in that year.\"\"\"\n",
    "    \n",
    "    # year 2017\n",
    "    # month 2\n",
    "    if not 1 <= month <= 12:\n",
    "        return 'Invalid Month'\n",
    "    \n",
    "    if month == 2 and is_leap(year):\n",
    "        return 29\n",
    "    \n",
    "    return month_days[month]"
   ]
  },
  {
   "cell_type": "code",
   "execution_count": 29,
   "id": "e5f01fd1-1316-4bda-9862-a6a06331fbaa",
   "metadata": {},
   "outputs": [
    {
     "name": "stdout",
     "output_type": "stream",
     "text": [
      "28\n"
     ]
    }
   ],
   "source": [
    "print(days_in_month(2017,2))"
   ]
  },
  {
   "cell_type": "code",
   "execution_count": null,
   "id": "1c7ee1e4-79fa-4b26-8b17-202d9d3f621a",
   "metadata": {},
   "outputs": [],
   "source": []
  }
 ],
 "metadata": {
  "kernelspec": {
   "display_name": "Python 3",
   "language": "python",
   "name": "python3"
  },
  "language_info": {
   "codemirror_mode": {
    "name": "ipython",
    "version": 3
   },
   "file_extension": ".py",
   "mimetype": "text/x-python",
   "name": "python",
   "nbconvert_exporter": "python",
   "pygments_lexer": "ipython3",
   "version": "3.8.8"
  }
 },
 "nbformat": 4,
 "nbformat_minor": 5
}
