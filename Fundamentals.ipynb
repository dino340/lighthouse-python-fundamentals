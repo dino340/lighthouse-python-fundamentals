{
 "cells": [
  {
   "cell_type": "code",
   "execution_count": 1,
   "id": "9f96fe53-8d64-4216-ac9e-df19089ba559",
   "metadata": {},
   "outputs": [
    {
     "name": "stdout",
     "output_type": "stream",
     "text": [
      "Hello Thomas, it's very nice to meet you!\n",
      "Your total bill is: \n",
      "22.8\n",
      "Vancouver looks like a cool place to go!!\n",
      "Montreal looks like a cool place to go!!\n",
      "Calgary looks like a cool place to go!!\n",
      "Toronto looks like a cool place to go!!\n"
     ]
    }
   ],
   "source": [
    "# name is a variable. It contains a string\n",
    "name = \"Thomas\"\n",
    "print(\"Hello \" + name + \", it's very nice to meet you!\")\n",
    "\n",
    "# taxRate, subtotal, tax and total are all variables that contain numbers\n",
    "taxRate = 0.14\n",
    "subtotal = 20\n",
    "tax = subtotal * taxRate\n",
    "total = subtotal + tax\n",
    "print(\"Your total bill is: \")\n",
    "print(total)\n",
    "\n",
    "# travelDestinations is a variable containing a list\n",
    "# city is a variable - its value is changing a few times\n",
    "travelDestinations = [\"Vancouver\",\"Montreal\",\"Calgary\",\"Toronto\"]\n",
    "for city in travelDestinations:\n",
    "    print(city + \" looks like a cool place to go!!\")"
   ]
  },
  {
   "cell_type": "code",
   "execution_count": 2,
   "id": "82906618-6abd-4785-94a6-d6da59f42875",
   "metadata": {},
   "outputs": [
    {
     "name": "stdin",
     "output_type": "stream",
     "text": [
      "Please, type in your name:  Garrett\n"
     ]
    },
    {
     "name": "stdout",
     "output_type": "stream",
     "text": [
      "Hello Garrett, it's very nice to meet you!\n"
     ]
    }
   ],
   "source": [
    "# name is a variable. It contains a string\n",
    "name = input(\"Please, type in your name: \")\n",
    "print(\"Hello \" + name + \", it's very nice to meet you!\")"
   ]
  },
  {
   "cell_type": "code",
   "execution_count": 3,
   "id": "96fc1b56-8345-4e7e-9e79-cf325c871bb2",
   "metadata": {},
   "outputs": [],
   "source": [
    "n = 300"
   ]
  },
  {
   "cell_type": "code",
   "execution_count": 4,
   "id": "48bcbc12-52fb-42f4-9773-f6c2b0171336",
   "metadata": {},
   "outputs": [
    {
     "name": "stdout",
     "output_type": "stream",
     "text": [
      "300\n"
     ]
    }
   ],
   "source": [
    "print(n)"
   ]
  },
  {
   "cell_type": "code",
   "execution_count": 5,
   "id": "192ec10d-c89e-40ac-9491-24c0c806bde0",
   "metadata": {},
   "outputs": [
    {
     "name": "stdout",
     "output_type": "stream",
     "text": [
      "Go team!!!\n"
     ]
    }
   ],
   "source": [
    ">>> s = 'foo'\n",
    ">>> t = 'bar'\n",
    ">>> u = 'baz'\n",
    "\n",
    ">>> s + t\n",
    "'foobar'\n",
    ">>> s + t + u\n",
    "'foobarbaz'\n",
    "\n",
    ">>> print('Go team' + '!!!')\n"
   ]
  },
  {
   "cell_type": "code",
   "execution_count": 6,
   "id": "908e7fc6-97b0-4fef-b9e0-a875fcbe015c",
   "metadata": {},
   "outputs": [
    {
     "ename": "TypeError",
     "evalue": "object of type 'int' has no len()",
     "output_type": "error",
     "traceback": [
      "\u001b[1;31m---------------------------------------------------------------------------\u001b[0m",
      "\u001b[1;31mTypeError\u001b[0m                                 Traceback (most recent call last)",
      "\u001b[1;32m<ipython-input-6-07366c16a4ee>\u001b[0m in \u001b[0;36m<module>\u001b[1;34m\u001b[0m\n\u001b[1;32m----> 1\u001b[1;33m \u001b[0mprint\u001b[0m\u001b[1;33m(\u001b[0m\u001b[0mlen\u001b[0m\u001b[1;33m(\u001b[0m\u001b[1;36m2\u001b[0m\u001b[1;33m)\u001b[0m\u001b[1;33m)\u001b[0m\u001b[1;33m\u001b[0m\u001b[1;33m\u001b[0m\u001b[0m\n\u001b[0m",
      "\u001b[1;31mTypeError\u001b[0m: object of type 'int' has no len()"
     ]
    }
   ],
   "source": [
    "print(len(2))\n"
   ]
  },
  {
   "cell_type": "code",
   "execution_count": 7,
   "id": "34ff0d79-a17a-432d-924f-dccbdfb361da",
   "metadata": {},
   "outputs": [
    {
     "ename": "TypeError",
     "evalue": "can only concatenate str (not \"int\") to str",
     "output_type": "error",
     "traceback": [
      "\u001b[1;31m---------------------------------------------------------------------------\u001b[0m",
      "\u001b[1;31mTypeError\u001b[0m                                 Traceback (most recent call last)",
      "\u001b[1;32m<ipython-input-7-9638f1345126>\u001b[0m in \u001b[0;36m<module>\u001b[1;34m\u001b[0m\n\u001b[1;32m----> 1\u001b[1;33m \u001b[0mprint\u001b[0m\u001b[1;33m(\u001b[0m\u001b[1;34m\"I would like \"\u001b[0m \u001b[1;33m+\u001b[0m \u001b[1;36m2\u001b[0m \u001b[1;33m+\u001b[0m \u001b[1;34m\" milkshakes, please.\"\u001b[0m\u001b[1;33m)\u001b[0m\u001b[1;33m\u001b[0m\u001b[1;33m\u001b[0m\u001b[0m\n\u001b[0m",
      "\u001b[1;31mTypeError\u001b[0m: can only concatenate str (not \"int\") to str"
     ]
    }
   ],
   "source": [
    "print(\"I would like \" + 2 + \" milkshakes, please.\")"
   ]
  },
  {
   "cell_type": "code",
   "execution_count": 8,
   "id": "92ebee8f-da0b-481b-a60f-6d91024c61ae",
   "metadata": {},
   "outputs": [
    {
     "data": {
      "text/plain": [
       "-5.01"
      ]
     },
     "execution_count": 8,
     "metadata": {},
     "output_type": "execute_result"
    }
   ],
   "source": [
    "float(-5.01)"
   ]
  },
  {
   "cell_type": "code",
   "execution_count": 9,
   "id": "adadda58-9a60-49b0-a8f5-ac5e558149e7",
   "metadata": {},
   "outputs": [
    {
     "data": {
      "text/plain": [
       "-5"
      ]
     },
     "execution_count": 9,
     "metadata": {},
     "output_type": "execute_result"
    }
   ],
   "source": [
    "int(-5.01)"
   ]
  },
  {
   "cell_type": "code",
   "execution_count": 10,
   "id": "d00e8bc4-328c-458b-932f-dd63ea8af1dd",
   "metadata": {},
   "outputs": [
    {
     "name": "stdin",
     "output_type": "stream",
     "text": [
      " 5\n"
     ]
    },
    {
     "name": "stdout",
     "output_type": "stream",
     "text": [
      "0\n"
     ]
    }
   ],
   "source": [
    "anyNum = int(input())\n",
    "anyNum -= 5\n",
    "print(anyNum) "
   ]
  },
  {
   "cell_type": "code",
   "execution_count": 11,
   "id": "807097e8-c2c3-42dc-b021-4f5b6a0cc8bd",
   "metadata": {},
   "outputs": [
    {
     "name": "stdout",
     "output_type": "stream",
     "text": [
      "15\n",
      "25.0\n"
     ]
    }
   ],
   "source": [
    "tripleUp = 5\n",
    "tripleUp *= 3\n",
    "print(tripleUp) \n",
    "\n",
    "quarterValue = 100\n",
    "quarterValue /= 4\n",
    "print(quarterValue)"
   ]
  },
  {
   "cell_type": "code",
   "execution_count": 12,
   "id": "772204b8-b58e-4ac0-9dcb-c0aeb3228498",
   "metadata": {},
   "outputs": [
    {
     "name": "stdin",
     "output_type": "stream",
     "text": [
      " 10\n",
      " 66\n",
      " 8\n"
     ]
    },
    {
     "name": "stdout",
     "output_type": "stream",
     "text": [
      "18\n"
     ]
    }
   ],
   "source": [
    "# It's important to start with defining your sum as 0 to start with. \n",
    "sum = 0\n",
    "\n",
    "num = int(input())\n",
    "sum += num\n",
    "\n",
    "num = int(input())\n",
    "\n",
    "num = int(input())\n",
    "sum += num\n",
    "\n",
    "print(sum)"
   ]
  },
  {
   "cell_type": "code",
   "execution_count": 13,
   "id": "18dfc158-e751-4ee3-b1a9-ea533f124b7c",
   "metadata": {},
   "outputs": [
    {
     "name": "stdout",
     "output_type": "stream",
     "text": [
      "6\n"
     ]
    }
   ],
   "source": [
    "a = 4\n",
    "b = 2\n",
    "c = a + b\n",
    "print(c)"
   ]
  },
  {
   "cell_type": "code",
   "execution_count": 14,
   "id": "f640cacb-65ac-4ffd-bb9c-ef94b8523cb8",
   "metadata": {},
   "outputs": [
    {
     "name": "stdout",
     "output_type": "stream",
     "text": [
      "3.0\n"
     ]
    }
   ],
   "source": [
    "print(c / 2)"
   ]
  },
  {
   "cell_type": "code",
   "execution_count": 15,
   "id": "cbe12a65-e2e4-4849-83e6-f335b2b9ff4e",
   "metadata": {},
   "outputs": [],
   "source": [
    "s = 'foobar'"
   ]
  },
  {
   "cell_type": "code",
   "execution_count": 16,
   "id": "b83f1aa3-d85d-4d34-8765-6c83cc634eff",
   "metadata": {},
   "outputs": [
    {
     "data": {
      "text/plain": [
       "'foobar'"
      ]
     },
     "execution_count": 16,
     "metadata": {},
     "output_type": "execute_result"
    }
   ],
   "source": [
    "s[::-1][::-1]"
   ]
  },
  {
   "cell_type": "code",
   "execution_count": 17,
   "id": "5cddc8c6-ec0b-49d3-bf52-485e0812bc81",
   "metadata": {},
   "outputs": [],
   "source": [
    "s = 'foo'\n",
    "t = 'bar'"
   ]
  },
  {
   "cell_type": "code",
   "execution_count": 18,
   "id": "b51e834e-431f-40e7-ba97-3b9306a21e69",
   "metadata": {},
   "outputs": [
    {
     "name": "stdout",
     "output_type": "stream",
     "text": [
      "True\n"
     ]
    }
   ],
   "source": [
    "print('barf' in 2 * (s+t))"
   ]
  },
  {
   "cell_type": "code",
   "execution_count": 19,
   "id": "10e42864-a904-482b-a1de-f7dfe1d5afd7",
   "metadata": {},
   "outputs": [
    {
     "data": {
      "text/plain": [
       "'fo'"
      ]
     },
     "execution_count": 19,
     "metadata": {},
     "output_type": "execute_result"
    }
   ],
   "source": [
    "s[0] + s[-1]\n"
   ]
  },
  {
   "cell_type": "code",
   "execution_count": 20,
   "id": "ff2f5841-393e-4a90-9bab-df6b7b9bd033",
   "metadata": {},
   "outputs": [
    {
     "data": {
      "text/plain": [
       "'f'"
      ]
     },
     "execution_count": 20,
     "metadata": {},
     "output_type": "execute_result"
    }
   ],
   "source": [
    "s[::5]"
   ]
  },
  {
   "cell_type": "code",
   "execution_count": 21,
   "id": "05ab500e-0240-4a05-a3c3-74ec9b9bd404",
   "metadata": {},
   "outputs": [
    {
     "data": {
      "text/plain": [
       "'f'"
      ]
     },
     "execution_count": 21,
     "metadata": {},
     "output_type": "execute_result"
    }
   ],
   "source": [
    "s[::-1][::-5]"
   ]
  },
  {
   "cell_type": "code",
   "execution_count": 22,
   "id": "d7efa737-843d-4e75-8646-88625a7708a9",
   "metadata": {},
   "outputs": [
    {
     "data": {
      "text/plain": [
       "'o'"
      ]
     },
     "execution_count": 22,
     "metadata": {},
     "output_type": "execute_result"
    }
   ],
   "source": [
    "s[::-5]"
   ]
  },
  {
   "cell_type": "code",
   "execution_count": 23,
   "id": "b8565e1d-4f0c-492e-a72a-65318c6200c5",
   "metadata": {},
   "outputs": [
    {
     "data": {
      "text/plain": [
       "'foo'"
      ]
     },
     "execution_count": 23,
     "metadata": {},
     "output_type": "execute_result"
    }
   ],
   "source": [
    "s[:]"
   ]
  },
  {
   "cell_type": "code",
   "execution_count": 24,
   "id": "f7fded43-c2b9-4598-b149-987bb6bf4171",
   "metadata": {},
   "outputs": [
    {
     "name": "stdout",
     "output_type": "stream",
     "text": [
      "5\n"
     ]
    }
   ],
   "source": [
    "a, b, c = (1, 2, 3, 4, 5, 6, 7, 8, 9)[1::3]\n",
    "print(b)"
   ]
  },
  {
   "cell_type": "code",
   "execution_count": 1,
   "id": "9a182f21-7e17-479d-bfbf-d9dd68ff8fa0",
   "metadata": {},
   "outputs": [],
   "source": [
    "MLB_team = dict([\n",
    "    ('Colorado', 'Rockies'),\n",
    "    ('Boston', 'Red Sox'),\n",
    "    ('Minnesota', 'Twins'),\n",
    "    ('Milwaukee', 'Brewers'),\n",
    "    ('Seattle', 'Mariners')\n",
    "])"
   ]
  },
  {
   "cell_type": "code",
   "execution_count": 2,
   "id": "2eda2ff9-cf6c-42e0-91ce-f758d47c2865",
   "metadata": {},
   "outputs": [
    {
     "data": {
      "text/plain": [
       "'Rockies'"
      ]
     },
     "execution_count": 2,
     "metadata": {},
     "output_type": "execute_result"
    }
   ],
   "source": [
    "MLB_team['Colorado']"
   ]
  },
  {
   "cell_type": "code",
   "execution_count": 3,
   "id": "92a2553e-0c95-48f7-b7a3-f556548cc6f8",
   "metadata": {},
   "outputs": [],
   "source": [
    "MLB_team['Seattle'] = 'Seahawks'"
   ]
  },
  {
   "cell_type": "code",
   "execution_count": 4,
   "id": "224b697b-f70e-41e2-a9f0-251a60a18f65",
   "metadata": {},
   "outputs": [
    {
     "data": {
      "text/plain": [
       "'Seahawks'"
      ]
     },
     "execution_count": 4,
     "metadata": {},
     "output_type": "execute_result"
    }
   ],
   "source": [
    "MLB_team['Seattle']"
   ]
  },
  {
   "cell_type": "code",
   "execution_count": 5,
   "id": "1f9eb6ea-d193-4d19-8b02-4bebad9885d5",
   "metadata": {},
   "outputs": [],
   "source": [
    "del MLB_team['Seattle']"
   ]
  },
  {
   "cell_type": "code",
   "execution_count": 6,
   "id": "4afb82be-bd9e-4bb5-9a8c-4157dbad9a50",
   "metadata": {},
   "outputs": [
    {
     "data": {
      "text/plain": [
       "{'Colorado': 'Rockies',\n",
       " 'Boston': 'Red Sox',\n",
       " 'Minnesota': 'Twins',\n",
       " 'Milwaukee': 'Brewers'}"
      ]
     },
     "execution_count": 6,
     "metadata": {},
     "output_type": "execute_result"
    }
   ],
   "source": [
    "MLB_team"
   ]
  },
  {
   "cell_type": "code",
   "execution_count": 7,
   "id": "4f1e2dfe-d4b3-48f9-b965-d47c4feb881e",
   "metadata": {},
   "outputs": [
    {
     "data": {
      "text/plain": [
       "'Red Sox'"
      ]
     },
     "execution_count": 7,
     "metadata": {},
     "output_type": "execute_result"
    }
   ],
   "source": [
    "'Boston' in MLB_team and MLB_team['Boston']"
   ]
  },
  {
   "cell_type": "code",
   "execution_count": 8,
   "id": "a3d4a17e-5006-45b5-b677-2a55ad34a267",
   "metadata": {},
   "outputs": [
    {
     "name": "stdout",
     "output_type": "stream",
     "text": [
      "Rockies\n"
     ]
    }
   ],
   "source": [
    "print(MLB_team.get('Colorado'))"
   ]
  },
  {
   "cell_type": "code",
   "execution_count": 9,
   "id": "21120487-823a-4581-a5e9-751a4b93b2d9",
   "metadata": {},
   "outputs": [
    {
     "name": "stdout",
     "output_type": "stream",
     "text": [
      "None\n"
     ]
    }
   ],
   "source": [
    "print(MLB_team.get('Atlanta'))"
   ]
  },
  {
   "cell_type": "code",
   "execution_count": 10,
   "id": "a38ed767-96ae-4c3e-a872-3a7a9079eb6e",
   "metadata": {},
   "outputs": [
    {
     "data": {
      "text/plain": [
       "dict_keys(['Colorado', 'Boston', 'Minnesota', 'Milwaukee'])"
      ]
     },
     "execution_count": 10,
     "metadata": {},
     "output_type": "execute_result"
    }
   ],
   "source": [
    "MLB_team.keys()"
   ]
  },
  {
   "cell_type": "code",
   "execution_count": 11,
   "id": "cf28827c-8b05-41a3-99c5-abbe008f5e1d",
   "metadata": {},
   "outputs": [],
   "source": [
    "d = {'foo': 100, 'bar': 200, 'baz': 300}"
   ]
  },
  {
   "cell_type": "code",
   "execution_count": 12,
   "id": "91ab2262-1dc7-46eb-a94c-930b49180b86",
   "metadata": {},
   "outputs": [
    {
     "ename": "TypeError",
     "evalue": "unhashable type: 'slice'",
     "output_type": "error",
     "traceback": [
      "\u001b[1;31m---------------------------------------------------------------------------\u001b[0m",
      "\u001b[1;31mTypeError\u001b[0m                                 Traceback (most recent call last)",
      "\u001b[1;32m<ipython-input-12-21c40bd6081b>\u001b[0m in \u001b[0;36m<module>\u001b[1;34m\u001b[0m\n\u001b[1;32m----> 1\u001b[1;33m \u001b[0md\u001b[0m\u001b[1;33m[\u001b[0m\u001b[1;34m'bar'\u001b[0m\u001b[1;33m:\u001b[0m\u001b[1;34m'baz'\u001b[0m\u001b[1;33m]\u001b[0m\u001b[1;33m\u001b[0m\u001b[1;33m\u001b[0m\u001b[0m\n\u001b[0m",
      "\u001b[1;31mTypeError\u001b[0m: unhashable type: 'slice'"
     ]
    }
   ],
   "source": [
    "d['bar':'baz']"
   ]
  },
  {
   "cell_type": "code",
   "execution_count": null,
   "id": "119d7aec-849d-4091-94b0-b4c47b5e01a3",
   "metadata": {},
   "outputs": [],
   "source": []
  }
 ],
 "metadata": {
  "kernelspec": {
   "display_name": "Python 3",
   "language": "python",
   "name": "python3"
  },
  "language_info": {
   "codemirror_mode": {
    "name": "ipython",
    "version": 3
   },
   "file_extension": ".py",
   "mimetype": "text/x-python",
   "name": "python",
   "nbconvert_exporter": "python",
   "pygments_lexer": "ipython3",
   "version": "3.8.8"
  }
 },
 "nbformat": 4,
 "nbformat_minor": 5
}
